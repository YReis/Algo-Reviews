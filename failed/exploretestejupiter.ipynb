{
 "cells": [
  {
   "cell_type": "code",
   "execution_count": 1,
   "metadata": {},
   "outputs": [
    {
     "data": {
      "text/plain": [
       "{0: {0: 0.0,\n",
       "  1: 1.5,\n",
       "  2: 3.0,\n",
       "  3: 4.5,\n",
       "  4: 6.0,\n",
       "  5: 7.5,\n",
       "  6: 9.0,\n",
       "  7: 10.5,\n",
       "  8: 12.0,\n",
       "  9: 13.5},\n",
       " 1: {0: 1.5,\n",
       "  1: 0.0,\n",
       "  2: 1.5,\n",
       "  3: 3.0,\n",
       "  4: 4.5,\n",
       "  5: 6.0,\n",
       "  6: 7.5,\n",
       "  7: 9.0,\n",
       "  8: 10.5,\n",
       "  9: 12.0},\n",
       " 2: {0: 3.0,\n",
       "  1: 1.5,\n",
       "  2: 0.0,\n",
       "  3: 1.5,\n",
       "  4: 3.0,\n",
       "  5: 4.5,\n",
       "  6: 6.0,\n",
       "  7: 7.5,\n",
       "  8: 9.0,\n",
       "  9: 10.5},\n",
       " 3: {0: 4.5,\n",
       "  1: 3.0,\n",
       "  2: 1.5,\n",
       "  3: 0.0,\n",
       "  4: 1.5,\n",
       "  5: 3.0,\n",
       "  6: 4.5,\n",
       "  7: 6.0,\n",
       "  8: 7.5,\n",
       "  9: 9.0},\n",
       " 4: {0: 6.0,\n",
       "  1: 4.5,\n",
       "  2: 3.0,\n",
       "  3: 1.5,\n",
       "  4: 0.0,\n",
       "  5: 1.5,\n",
       "  6: 3.0,\n",
       "  7: 4.5,\n",
       "  8: 6.0,\n",
       "  9: 7.5},\n",
       " 5: {0: 7.5,\n",
       "  1: 6.0,\n",
       "  2: 4.5,\n",
       "  3: 3.0,\n",
       "  4: 1.5,\n",
       "  5: 0.0,\n",
       "  6: 1.5,\n",
       "  7: 3.0,\n",
       "  8: 4.5,\n",
       "  9: 6.0},\n",
       " 6: {0: 9.0,\n",
       "  1: 7.5,\n",
       "  2: 6.0,\n",
       "  3: 4.5,\n",
       "  4: 3.0,\n",
       "  5: 1.5,\n",
       "  6: 0.0,\n",
       "  7: 1.5,\n",
       "  8: 3.0,\n",
       "  9: 4.5},\n",
       " 7: {0: 10.5,\n",
       "  1: 9.0,\n",
       "  2: 7.5,\n",
       "  3: 6.0,\n",
       "  4: 4.5,\n",
       "  5: 3.0,\n",
       "  6: 1.5,\n",
       "  7: 0.0,\n",
       "  8: 1.5,\n",
       "  9: 3.0},\n",
       " 8: {0: 12.0,\n",
       "  1: 10.5,\n",
       "  2: 9.0,\n",
       "  3: 7.5,\n",
       "  4: 6.0,\n",
       "  5: 4.5,\n",
       "  6: 3.0,\n",
       "  7: 1.5,\n",
       "  8: 0.0,\n",
       "  9: 1.5},\n",
       " 9: {0: 13.5,\n",
       "  1: 12.0,\n",
       "  2: 10.5,\n",
       "  3: 9.0,\n",
       "  4: 7.5,\n",
       "  5: 6.0,\n",
       "  6: 4.5,\n",
       "  7: 3.0,\n",
       "  8: 1.5,\n",
       "  9: 0.0}}"
      ]
     },
     "execution_count": 1,
     "metadata": {},
     "output_type": "execute_result"
    }
   ],
   "source": [
    "import pandas as pd\n",
    "import numpy as np\n",
    "\n",
    "A = [[1,0.5,1],[2,1,2],[3,1.5,3],[4,2,4],[5,2.5,5],[6,3,6],[7,3.5,7],[8,4,8],[9,4.5,9],[10,5,10]]\n",
    "\n",
    "num_rows = len(A)\n",
    "distance_dict = {}\n",
    "for i in range(num_rows):\n",
    "    distance_dict[i] = {}\n",
    "    for j in range(num_rows):\n",
    "        distance_dict[i][j] = np.sqrt(np.sum(np.square(np.array(A[i]) - np.array(A[j]))))\n",
    "distance_dict\n",
    "\n"
   ]
  },
  {
   "cell_type": "code",
   "execution_count": 2,
   "metadata": {},
   "outputs": [
    {
     "name": "stdout",
     "output_type": "stream",
     "text": [
      "[-40 -40 -40 -40 -40 -40]\n"
     ]
    }
   ],
   "source": [
    "# python learn map reduce and filter\n",
    "\n",
    "q=np.array([1,2,3,4,5,6])\n",
    "i = np.array([41,42,43,44,45,46])\n",
    "j = q - i\n",
    "print(j)"
   ]
  },
  {
   "cell_type": "code",
   "execution_count": 3,
   "metadata": {},
   "outputs": [
    {
     "data": {
      "text/plain": [
       "{0: {0: 8.9, 1: 9.9, 2: 10.9, 3: 13.9, 4: 11.9, 5: 3.9},\n",
       " 1: {0: 7.0, 1: 8.0, 2: 9.0, 3: 12.0, 4: 10.0, 5: 2.0},\n",
       " 2: {0: 5.0, 1: 6.0, 2: 7.0, 3: 10.0, 4: 8.0, 5: 0.0},\n",
       " 3: {0: 4.0, 1: 5.0, 2: 6.0, 3: 9.0, 4: 7.0, 5: 1.0},\n",
       " 4: {0: 14.0, 1: 13.0, 2: 12.0, 3: 9.0, 4: 11.0, 5: 19.0},\n",
       " 5: {0: 4.0, 1: 5.0, 2: 6.0, 3: 9.0, 4: 7.0, 5: 1.0},\n",
       " 6: {0: 9.0,\n",
       "  1: 7.5,\n",
       "  2: 6.0,\n",
       "  3: 4.5,\n",
       "  4: 3.0,\n",
       "  5: 1.5,\n",
       "  6: 0.0,\n",
       "  7: 1.5,\n",
       "  8: 3.0,\n",
       "  9: 4.5},\n",
       " 7: {0: 10.5,\n",
       "  1: 9.0,\n",
       "  2: 7.5,\n",
       "  3: 6.0,\n",
       "  4: 4.5,\n",
       "  5: 3.0,\n",
       "  6: 1.5,\n",
       "  7: 0.0,\n",
       "  8: 1.5,\n",
       "  9: 3.0},\n",
       " 8: {0: 12.0,\n",
       "  1: 10.5,\n",
       "  2: 9.0,\n",
       "  3: 7.5,\n",
       "  4: 6.0,\n",
       "  5: 4.5,\n",
       "  6: 3.0,\n",
       "  7: 1.5,\n",
       "  8: 0.0,\n",
       "  9: 1.5},\n",
       " 9: {0: 13.5,\n",
       "  1: 12.0,\n",
       "  2: 10.5,\n",
       "  3: 9.0,\n",
       "  4: 7.5,\n",
       "  5: 6.0,\n",
       "  6: 4.5,\n",
       "  7: 3.0,\n",
       "  8: 1.5,\n",
       "  9: 0.0}}"
      ]
     },
     "execution_count": 3,
     "metadata": {},
     "output_type": "execute_result"
    }
   ],
   "source": [
    "a =[0.1,2,4,5,23,5] \n",
    "b = [9,10,11,14,12,4]\n",
    "for i in range(len(a)):\n",
    "    distance_dict[i] = {}\n",
    "    for j in range(len(b)):\n",
    "        distance_dict[i][j] = np.sqrt(np.sum(np.square(np.array(a[i]) - np.array(b[j]))))\n",
    "distance_dict"
   ]
  },
  {
   "cell_type": "code",
   "execution_count": 5,
   "metadata": {},
   "outputs": [
    {
     "name": "stdout",
     "output_type": "stream",
     "text": [
      "0\n",
      "1\n",
      "2\n"
     ]
    }
   ],
   "source": [
    "for i in range(len([[1,2,3,4,5],[1,2,3,4,5],[1,2,3,4,5]])):\n",
    "    print(i) "
   ]
  },
  {
   "cell_type": "code",
   "execution_count": null,
   "metadata": {},
   "outputs": [],
   "source": []
  }
 ],
 "metadata": {
  "kernelspec": {
   "display_name": "exploreobese",
   "language": "python",
   "name": "python3"
  },
  "language_info": {
   "codemirror_mode": {
    "name": "ipython",
    "version": 3
   },
   "file_extension": ".py",
   "mimetype": "text/x-python",
   "name": "python",
   "nbconvert_exporter": "python",
   "pygments_lexer": "ipython3",
   "version": "3.11.5"
  }
 },
 "nbformat": 4,
 "nbformat_minor": 2
}
