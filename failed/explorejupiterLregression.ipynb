{
 "cells": [
  {
   "cell_type": "code",
   "execution_count": 1,
   "metadata": {},
   "outputs": [
    {
     "name": "stdout",
     "output_type": "stream",
     "text": [
      "255\n",
      "153\n",
      "Predicted MEDV for crime rate 0.23: 25.004490612808798\n"
     ]
    }
   ],
   "source": [
    "import pandas as pd\n",
    "from reviews.data import dataprovider\n",
    "\n",
    "\n",
    "datapath = 'RealState.csv'\n",
    "dataprovider = dataprovider(datapath, 50, 30)\n",
    "traindata, testdata = dataprovider.providedata()\n",
    "\n",
    "traindataLabel = traindata['MEDV'].copy()\n",
    "testdataLabel = testdata['MEDV'].copy()\n",
    "\n",
    "traindata = traindata.drop('MEDV', axis=1)\n",
    "testdata = testdata.drop('MEDV', axis=1)\n",
    "\n",
    "crim = traindata['CRIM'].copy()\n",
    "medv = traindataLabel.copy()\n",
    "\n",
    "meancrim = crim.mean()\n",
    "meanmedv = medv.mean()\n",
    "\n",
    "crime_diff = crim - meancrim\n",
    "medv_diff = medv - meanmedv\n",
    "\n",
    "nominator = (medv_diff * crime_diff).sum()\n",
    "denominator = (crime_diff ** 2).sum()\n",
    "A = nominator / denominator\n",
    "B = meanmedv - A * meancrim\n",
    "\n",
    "def predict(newusercrim):\n",
    "    prediction=A * (newusercrim) + B\n",
    "    if prediction>0:\n",
    "        return prediction\n",
    "    else:\n",
    "        return 0\n",
    "\n",
    "example_crim_rate = 0.23\n",
    "prediction = predict(example_crim_rate)\n",
    "print(f\"Predicted MEDV for crime rate {example_crim_rate}: {prediction}\")\n"
   ]
  },
  {
   "cell_type": "code",
   "execution_count": null,
   "metadata": {},
   "outputs": [],
   "source": []
  }
 ],
 "metadata": {
  "kernelspec": {
   "display_name": "exploreobese",
   "language": "python",
   "name": "python3"
  },
  "language_info": {
   "codemirror_mode": {
    "name": "ipython",
    "version": 3
   },
   "file_extension": ".py",
   "mimetype": "text/x-python",
   "name": "python",
   "nbconvert_exporter": "python",
   "pygments_lexer": "ipython3",
   "version": "3.11.5"
  }
 },
 "nbformat": 4,
 "nbformat_minor": 2
}
