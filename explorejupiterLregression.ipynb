{
 "cells": [
  {
   "cell_type": "code",
   "execution_count": 23,
   "metadata": {},
   "outputs": [
    {
     "name": "stdout",
     "output_type": "stream",
     "text": [
      "255\n",
      "153\n"
     ]
    },
    {
     "name": "stderr",
     "output_type": "stream",
     "text": [
      "/var/folders/7f/s_dsf9rs2838v4ryc7px2q1m0000gn/T/ipykernel_3697/913044417.py:11: SettingWithCopyWarning: \n",
      "A value is trying to be set on a copy of a slice from a DataFrame\n",
      "\n",
      "See the caveats in the documentation: https://pandas.pydata.org/pandas-docs/stable/user_guide/indexing.html#returning-a-view-versus-a-copy\n",
      "  traindata.drop('MEDV', axis=1, inplace=True)\n",
      "/var/folders/7f/s_dsf9rs2838v4ryc7px2q1m0000gn/T/ipykernel_3697/913044417.py:12: SettingWithCopyWarning: \n",
      "A value is trying to be set on a copy of a slice from a DataFrame\n",
      "\n",
      "See the caveats in the documentation: https://pandas.pydata.org/pandas-docs/stable/user_guide/indexing.html#returning-a-view-versus-a-copy\n",
      "  testdata.drop('MEDV', axis=1, inplace=True)\n"
     ]
    }
   ],
   "source": [
    "import pandas as pd \n",
    "from reviews.data import dataprovider\n",
    "\n",
    "datapath = 'RealState.csv'\n",
    "dataprovider = dataprovider(datapath, 50, 30)\n",
    "traindata, testdata = dataprovider.providedata()\n",
    "\n",
    "traindataLabel = traindata['MEDV']\n",
    "testdataLabel = testdata['MEDV']\n",
    "\n",
    "traindata.drop('MEDV', axis=1, inplace=True)\n",
    "testdata.drop('MEDV', axis=1, inplace=True)\n",
    "\n",
    "traindata['CRIM']\n",
    "\n",
    "crim = traindata['CRIM']\n",
    "medv = traindataLabel\n",
    "\n",
    "meancrim=crim.mean()\n",
    "meanmedv=medv.mean()\n",
    "\n",
    "\n",
    "\n"
   ]
  },
  {
   "cell_type": "code",
   "execution_count": 44,
   "metadata": {},
   "outputs": [],
   "source": [
    "crime_diff = crim - meancrim\n",
    "medv_diff = medv - meanmedv\n",
    "\n",
    "nominator = (medv_diff * crime_diff).sum()\n",
    "\n",
    "denominator = ((crime_diff)**2).sum()\n",
    "A = nominator/denominator\n",
    "\n",
    "B = meancrim - A * meanmedv\n",
    "\n",
    "result = A * crim + B\n",
    "\n",
    "def predict(newusercrim):\n",
    "    return  A * newusercrim + B"
   ]
  },
  {
   "cell_type": "markdown",
   "metadata": {},
   "source": []
  },
  {
   "cell_type": "code",
   "execution_count": null,
   "metadata": {},
   "outputs": [],
   "source": []
  }
 ],
 "metadata": {
  "kernelspec": {
   "display_name": "exploreobese",
   "language": "python",
   "name": "python3"
  },
  "language_info": {
   "codemirror_mode": {
    "name": "ipython",
    "version": 3
   },
   "file_extension": ".py",
   "mimetype": "text/x-python",
   "name": "python",
   "nbconvert_exporter": "python",
   "pygments_lexer": "ipython3",
   "version": "3.11.5"
  }
 },
 "nbformat": 4,
 "nbformat_minor": 2
}
