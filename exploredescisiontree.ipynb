{
 "cells": [
  {
   "cell_type": "code",
   "execution_count": 17,
   "metadata": {},
   "outputs": [
    {
     "name": "stdout",
     "output_type": "stream",
     "text": [
      " feature:  0 threshold:  51.0\n",
      "  value:  0\n",
      "  feature:  0 threshold:  101.0\n",
      "   value:  1\n",
      "   value:  2\n"
     ]
    }
   ],
   "source": [
    "# we will code a descision tree\n",
    "import numpy as np\n",
    "import pandas as pd\n",
    "\n",
    "dataset = pd.read_csv('Iris.csv')\n",
    "Y= dataset['Species']\n",
    "unique_labels = Y.unique()\n",
    "label_to_int = {label: i for i, label in enumerate(unique_labels)}\n",
    "Y_encoded = Y.replace(label_to_int)\n",
    "X = dataset.drop('Species', axis=1)\n",
    "\n",
    "class Node():\n",
    "    def __init__(self, feature=None, threshold=None, left=None, right=None, value=None):\n",
    "        self.feature = feature\n",
    "        self.threshold = threshold\n",
    "        self.left = left\n",
    "        self.right = right\n",
    "        self.value = value\n",
    "\n",
    "class DecisionTreeClassifier():\n",
    "    def __init__(self, max_depth=5, min_samples_split=2, min_samples_leaf=1, min_impurity_decrease=0.0):\n",
    "        self.max_depth = max_depth\n",
    "        self.min_samples_split = min_samples_split\n",
    "        self.min_samples_leaf = min_samples_leaf\n",
    "        self.min_impurity_decrease = min_impurity_decrease\n",
    "        self.root = None\n",
    "\n",
    "    def fit(self, X, y):\n",
    "        self.root = self._grow_tree(X, y)\n",
    "        \n",
    "    def _grow_tree(self, X, y, depth=0):\n",
    "        n_samples, n_features = X.shape\n",
    "        n_labels = len(np.unique(y))\n",
    "        #print(n_samples, n_features, n_labels)\n",
    "        if (depth >= self.max_depth) or (n_labels == 1) or (n_samples < self.min_samples_split):\n",
    "            return Node(value=np.bincount(y).argmax())\n",
    "        else:\n",
    "            best_feature, best_threshold = self._find_best_split(X, y)\n",
    "            left_indices = X[:, best_feature] < best_threshold\n",
    "            right_indices = X[:, best_feature] >= best_threshold\n",
    "            left = self._grow_tree(X[left_indices], y[left_indices], depth+1)\n",
    "            right = self._grow_tree(X[right_indices], y[right_indices], depth+1)\n",
    "            return Node(feature=best_feature, threshold=best_threshold, left=left, right=right)\n",
    "    \n",
    "    def _find_best_split(self, X, y):\n",
    "        n_samples, n_features = X.shape\n",
    "        best_feature = None\n",
    "        best_threshold = None\n",
    "        best_impurity = 1.0\n",
    "        for feature in range(n_features):\n",
    "            thresholds = np.unique(X[:, feature])\n",
    "            for threshold in thresholds:\n",
    "                y_left = y[X[:, feature] < threshold]\n",
    "                y_right = y[X[:, feature] >= threshold]\n",
    "                impurity = self._gini_impurity(y_left, y_right)\n",
    "                if impurity < best_impurity:\n",
    "                    best_impurity = impurity\n",
    "                    best_feature = feature\n",
    "                    best_threshold = threshold\n",
    "        return best_feature, best_threshold\n",
    "    \n",
    "    def _gini_impurity(self, y_left, y_right):\n",
    "        n_left = len(y_left)\n",
    "        n_right = len(y_right)\n",
    "        n_total = n_left + n_right\n",
    "        gini_left = 1.0 - (np.sum(np.square(np.bincount(y_left)/n_left)) if n_left != 0 else 0)\n",
    "        gini_right = 1.0 - (np.sum(np.square(np.bincount(y_right)/n_right)) if n_right != 0 else 0)\n",
    "        gini = (n_left/n_total)*gini_left + (n_right/n_total)*gini_right\n",
    "        return gini\n",
    "    \n",
    "    def predict(self, X):\n",
    "        return self._predict(X, self.root)\n",
    "        \n",
    "    def score(self, X, y):\n",
    "        y_pred = self.predict(X)\n",
    "        return np.sum(y_pred == y)/len(y)\n",
    "    \n",
    "    def _predict(self, X, node):\n",
    "        if node.value is not None:\n",
    "            return np.array([node.value]*len(X))\n",
    "        else:\n",
    "            left_indices = X[:, node.feature] < node.threshold\n",
    "            right_indices = X[:, node.feature] >= node.threshold\n",
    "            y_left = self._predict(X[left_indices], node.left)\n",
    "            y_right = self._predict(X[right_indices], node.right)\n",
    "            return np.concatenate([y_left, y_right])\n",
    "\n",
    "    def print_tree(self):\n",
    "        self._print_tree(self.root)\n",
    "\n",
    "    def _print_tree(self, node, depth=0):\n",
    "        if node.value is not None:\n",
    "            print(\" \"*depth, \"value: \", node.value)\n",
    "        else:\n",
    "            print(\" \"*depth, \"feature: \", node.feature, \"threshold: \", node.threshold)\n",
    "            self._print_tree(node.left, depth+1)\n",
    "            self._print_tree(node.right, depth+1)\n",
    "    \n",
    "    \n",
    "DecisionTreeClassifier = DecisionTreeClassifier( max_depth=5, min_samples_split=2, min_samples_leaf=1, min_impurity_decrease=0.0)\n",
    "\n",
    "DecisionTreeClassifier.fit(X.values, Y_encoded)\n",
    "DecisionTreeClassifier.print_tree()"
   ]
  },
  {
   "cell_type": "code",
   "execution_count": null,
   "metadata": {},
   "outputs": [
    {
     "data": {
      "text/plain": [
       "array([[1, 2, 3],\n",
       "       [4, 5, 6]])"
      ]
     },
     "execution_count": 7,
     "metadata": {},
     "output_type": "execute_result"
    }
   ],
   "source": [
    "a = np.array([[1, 2, 3], [4, 5, 6]])\n",
    "a"
   ]
  },
  {
   "cell_type": "code",
   "execution_count": 9,
   "metadata": {},
   "outputs": [
    {
     "data": {
      "text/plain": [
       "0         Iris-setosa\n",
       "1         Iris-setosa\n",
       "2         Iris-setosa\n",
       "3         Iris-setosa\n",
       "4         Iris-setosa\n",
       "            ...      \n",
       "145    Iris-virginica\n",
       "146    Iris-virginica\n",
       "147    Iris-virginica\n",
       "148    Iris-virginica\n",
       "149    Iris-virginica\n",
       "Name: Species, Length: 150, dtype: object"
      ]
     },
     "execution_count": 9,
     "metadata": {},
     "output_type": "execute_result"
    }
   ],
   "source": [
    "import pandas as pd\n",
    "dataset = pd.read_csv('Iris.csv')\n",
    "X"
   ]
  }
 ],
 "metadata": {
  "kernelspec": {
   "display_name": "exploreobese",
   "language": "python",
   "name": "python3"
  },
  "language_info": {
   "codemirror_mode": {
    "name": "ipython",
    "version": 3
   },
   "file_extension": ".py",
   "mimetype": "text/x-python",
   "name": "python",
   "nbconvert_exporter": "python",
   "pygments_lexer": "ipython3",
   "version": "3.11.5"
  }
 },
 "nbformat": 4,
 "nbformat_minor": 2
}
