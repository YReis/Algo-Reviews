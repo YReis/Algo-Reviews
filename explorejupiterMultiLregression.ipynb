{
 "cells": [
  {
   "cell_type": "code",
   "execution_count": 12,
   "metadata": {},
   "outputs": [
    {
     "ename": "IndentationError",
     "evalue": "expected an indented block after 'for' statement on line 22 (148805187.py, line 24)",
     "output_type": "error",
     "traceback": [
      "\u001b[0;36m  Cell \u001b[0;32mIn[12], line 24\u001b[0;36m\u001b[0m\n\u001b[0;31m    mediumfeaturevalues = []\u001b[0m\n\u001b[0m    ^\u001b[0m\n\u001b[0;31mIndentationError\u001b[0m\u001b[0;31m:\u001b[0m expected an indented block after 'for' statement on line 22\n"
     ]
    }
   ],
   "source": [
    "import pandas as pd \n",
    "from reviews.data import dataprovider\n",
    "\n",
    "datapath = 'RealState.csv'\n",
    "dataprovider = dataprovider(datapath, 50, 30)\n",
    "traindata, testdata = dataprovider.providedata()\n",
    "\n",
    "traindataLabel = traindata['MEDV']\n",
    "testdataLabel = testdata['MEDV']\n",
    "\n",
    "traindata.drop('MEDV',axis=1,inplace=True)\n",
    "testdata.drop('MEDV',axis=1,inplace=True)\n",
    "\n",
    "def nomalize(column):\n",
    "    maxnum=column.max()\n",
    "    minnum=column.min()\n",
    "    for i in range(len(column)):\n",
    "        column.iloc[i] = ( column.iloc[i] - minnum) / (maxnum - minnum) if maxnum != minnum else 0\n",
    "\n",
    "columns = traindata.columns\n",
    "\n",
    "for column in columns:\n",
    "    nomalize(column)\n",
    "\n",
    "mediumfeaturevalues = []\n",
    "mediumlabel = traindataLabel.mean()\n",
    "for column in columns:\n",
    "    mediumfeaturevalues.append(traindata[column].mean())\n",
    "mediumfeaturevalues\n",
    "\n",
    "\n",
    "\n",
    "\n"
   ]
  },
  {
   "cell_type": "code",
   "execution_count": null,
   "metadata": {},
   "outputs": [],
   "source": []
  }
 ],
 "metadata": {
  "kernelspec": {
   "display_name": "exploreobese",
   "language": "python",
   "name": "python3"
  },
  "language_info": {
   "codemirror_mode": {
    "name": "ipython",
    "version": 3
   },
   "file_extension": ".py",
   "mimetype": "text/x-python",
   "name": "python",
   "nbconvert_exporter": "python",
   "pygments_lexer": "ipython3",
   "version": "3.11.5"
  }
 },
 "nbformat": 4,
 "nbformat_minor": 2
}
